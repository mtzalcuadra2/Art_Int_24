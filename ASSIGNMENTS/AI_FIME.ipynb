{
  "metadata": {
    "colab": {
      "provenance": [],
      "authorship_tag": "ABX9TyNaQfQ2NvWQWNtTDBAN8B4a",
      "include_colab_link": true
    },
    "kernelspec": {
      "name": "python3",
      "display_name": "Python 3"
    },
    "language_info": {
      "name": "python"
    },
    "kaggle": {
      "accelerator": "none",
      "dataSources": [],
      "dockerImageVersionId": 30761,
      "isInternetEnabled": false,
      "language": "python",
      "sourceType": "notebook",
      "isGpuEnabled": false
    }
  },
  "nbformat_minor": 0,
  "nbformat": 4,
  "cells": [
    {
      "cell_type": "markdown",
      "metadata": {
        "id": "view-in-github",
        "colab_type": "text"
      },
      "source": [
        "<a href=\"https://colab.research.google.com/github/mtzalcuadra2/Art_Int_24/blob/main/ASSIGNMENTS/AI_FIME.ipynb\" target=\"_parent\"><img src=\"https://colab.research.google.com/assets/colab-badge.svg\" alt=\"Open In Colab\"/></a>"
      ]
    },
    {
      "cell_type": "code",
      "source": [
        "eimport random\n",
        "\n",
        "def hangman():\n",
        "    word_list = [\"mulan\", \"aladdin\", \"fraozen\", \"snow white\", \"cinderella\",\"atlantis\",\"treasure planet\",\"encanto\",\"up\"]\n",
        "    chosen_word = random.choice(word_list)\n",
        "    guessed_word = ['_'] * len(chosen_word)\n",
        "    guessed_letters = set()\n",
        "    attempts = 6\n",
        "\n",
        "    print(\"Welcome to Hangman: Disney Movies!\")\n",
        "\n",
        "    while attempts > 0 and ''.join(guessed_word) != chosen_word:\n",
        "        print(\"Current movie:\", ' '.join(guessed_word))\n",
        "        print(f\"Guessed letters: {', '.join(guessed_letters)}\")\n",
        "        print(f\"Attempts remaining: {attempts}\")\n",
        "\n",
        "        guess = input(\"Guess a letter: \").lower()\n",
        "\n",
        "        if guess in guessed_letters:\n",
        "            print(\"You already guessed that letter. Try again.\")\n",
        "        elif guess in chosen_word:\n",
        "            for i, letter in enumerate(chosen_word):\n",
        "                if letter == guess:\n",
        "                    guessed_word[i] = guess\n",
        "            print(\"Good guess!\")\n",
        "        else:\n",
        "            attempts -= 1\n",
        "            print(\"Incorrect guess.\")\n",
        "\n",
        "        guessed_letters.add(guess)\n",
        "\n",
        "    if ''.join(guessed_word) == chosen_word:\n",
        "        print(f\"Congratulations! You guessed the movie: {chosen_word}\")\n",
        "    else:\n",
        "        print(f\"Game over! The movie was: {chosen_word}\")\n",
        "\n",
        "hangman()\n"
      ],
      "metadata": {
        "id": "EVVlX1lZKg9n",
        "outputId": "bfe84ddc-3d9b-4c8c-8e49-b4b8c9c81399",
        "colab": {
          "base_uri": "https://localhost:8080/"
        }
      },
      "execution_count": 1,
      "outputs": [
        {
          "output_type": "stream",
          "name": "stdout",
          "text": [
            "Welcome to Hangman: Disney Movies!\n",
            "Current movie: _ _ _ _ _ _ _ _ _ _\n",
            "Guessed letters: \n",
            "Attempts remaining: 6\n",
            "Guess a letter: c\n",
            "Good guess!\n",
            "Current movie: c _ _ _ _ _ _ _ _ _\n",
            "Guessed letters: c\n",
            "Attempts remaining: 6\n",
            "Guess a letter: i\n",
            "Good guess!\n",
            "Current movie: c i _ _ _ _ _ _ _ _\n",
            "Guessed letters: i, c\n",
            "Attempts remaining: 6\n",
            "Guess a letter: n\n",
            "Good guess!\n",
            "Current movie: c i n _ _ _ _ _ _ _\n",
            "Guessed letters: i, c, n\n",
            "Attempts remaining: 6\n",
            "Guess a letter: d\n",
            "Good guess!\n",
            "Current movie: c i n d _ _ _ _ _ _\n",
            "Guessed letters: d, i, c, n\n",
            "Attempts remaining: 6\n",
            "Guess a letter: \n",
            "Good guess!\n",
            "Current movie: c i n d _ _ _ _ _ _\n",
            "Guessed letters: , i, c, n, d\n",
            "Attempts remaining: 6\n",
            "Guess a letter: r\n",
            "Guess a letter: e\n",
            "Good guess!\n",
            "Current movie: c i n d _ r _ _ _ _\n",
            "Guessed letters: , i, c, r, n, d\n",
            "Attempts remaining: 6\n",
            "Good guess!\n",
            "Current movie: c i n d e r e _ _ _\n",
            "Guessed letters: , i, c, r, n, e, d\n",
            "Attempts remaining: 6\n",
            "Guess a letter: l\n",
            "Guess a letter: l\n",
            "Good guess!\n",
            "Current movie: c i n d e r e l l _\n",
            "Guessed letters: , i, l, c, r, n, e, d\n",
            "Attempts remaining: 6\n",
            "You already guessed that letter. Try again.\n",
            "Current movie: c i n d e r e l l _\n",
            "Guessed letters: , i, l, c, r, n, e, d\n",
            "Attempts remaining: 6\n",
            "Guess a letter: a\n",
            "Good guess!\n",
            "Congratulations! You guessed the movie: cinderella\n"
          ]
        }
      ]
    },
    {
      "cell_type": "code",
      "source": [
        "import random\n",
        "\n",
        "def number_guessing_game():\n",
        "    number_to_guess = random.randint(1, 100)\n",
        "    attempts = 0\n",
        "    guessed = False\n",
        "\n",
        "    print(\"Welcome to the Number Guessing Game!\")\n",
        "    print(\"I'm thinking of a number between 1 and 100.\")\n",
        "\n",
        "    while not guessed:\n",
        "        guess = int(input(\"Enter your guess: \"))\n",
        "        attempts += 1\n",
        "\n",
        "        if guess < number_to_guess:\n",
        "            print(\"Too low! Try again.\")\n",
        "        elif guess > number_to_guess:\n",
        "            print(\"Too high! Try again.\")\n",
        "        else:\n",
        "            guessed = True\n",
        "            print(f\"Congratulations! You guessed the number in {attempts} attempts.\")\n",
        "\n",
        "number_guessing_game()\n"
      ],
      "metadata": {
        "id": "YG4CTbsK44xX",
        "outputId": "1295b80b-9119-4e87-b83f-1016935aa258",
        "colab": {
          "base_uri": "https://localhost:8080/"
        }
      },
      "execution_count": 3,
      "outputs": [
        {
          "output_type": "stream",
          "name": "stdout",
          "text": [
            "Welcome to the Number Guessing Game!\n",
            "I'm thinking of a number between 1 and 100.\n",
            "Enter your guess: 45\n",
            "Too high! Try again.\n",
            "Enter your guess: 30\n",
            "Too low! Try again.\n",
            "Enter your guess: 35\n",
            "Too low! Try again.\n",
            "Enter your guess: 38\n",
            "Too low! Try again.\n",
            "Enter your guess: 40\n",
            "Too low! Try again.\n",
            "Enter your guess: 42\n",
            "Too low! Try again.\n",
            "Enter your guess: 43\n",
            "Too low! Try again.\n",
            "Enter your guess: 44\n",
            "Congratulations! You guessed the number in 8 attempts.\n"
          ]
        }
      ]
    },
    {
      "cell_type": "code",
      "source": [
        "import string\n",
        "import re\n",
        "from collections import Counter\n",
        "\n",
        "def text_analysis(file_name):\n",
        "    # Read the text from the specified file\n",
        "    try:\n",
        "        with open(file_name, 'r') as file:\n",
        "            text = file.read()\n",
        "    except FileNotFoundError:\n",
        "        print(f\"Error: The file '{file_name}' was not found.\")\n",
        "        return\n",
        "    except Exception as e:\n",
        "        print(f\"An error occurred: {e}\")\n",
        "        return\n",
        "\n",
        "    # Remove punctuation and convert text to lowercase\n",
        "    text = text.translate(str.maketrans('', '', string.punctuation)).lower()\n",
        "\n",
        "    # Normalize newlines and split text into paragraphs\n",
        "    text = re.sub(r'\\r\\n|\\r', '\\n', text)  # Normalize newline characters\n",
        "    paragraphs = [p for p in text.split('\\n\\n') if p.strip()]  # Split into paragraphs and remove empty ones\n",
        "\n",
        "    # Split text into words and sentences\n",
        "    words = text.split()\n",
        "    sentences = [s.strip() for s in text.split('.') if s.strip()]  # Remove empty sentences\n",
        "\n",
        "    # Count words\n",
        "    word_count = len(words)\n",
        "\n",
        "    # Count sentences\n",
        "    sentence_count = len(sentences)\n",
        "\n",
        "    # Count paragraphs\n",
        "    paragraph_count = len(paragraphs)\n",
        "\n",
        "    # Calculate average word length\n",
        "    total_characters = sum(len(word) for word in words)\n",
        "    average_word_length = total_characters / word_count if word_count > 0 else 0\n",
        "\n",
        "    # Identify most common words\n",
        "    word_frequencies = Counter(words)\n",
        "    most_common_words = word_frequencies.most_common(10)\n",
        "\n",
        "    # Display results\n",
        "    print(f\"Word Count: {word_count}\")\n",
        "    print(f\"Sentence Count: {sentence_count}\")\n",
        "    print(f\"Paragraph Count: {paragraph_count}\")\n",
        "    print(f\"Average Word Length: {average_word_length:.2f}\")\n",
        "    print(f\"Most Common Words: {most_common_words}\")\n",
        "\n",
        "# Prompt the user for the file name\n",
        "file_name = input(\"Please enter the name of the text file (including the extension): \")\n",
        "text_analysis(file_name)\n"
      ],
      "metadata": {
        "id": "5DMnFWKI47Rw",
        "outputId": "261a134f-0ecc-4955-ee62-6a67812aa8bb",
        "colab": {
          "base_uri": "https://localhost:8080/"
        }
      },
      "execution_count": 5,
      "outputs": [
        {
          "output_type": "stream",
          "name": "stdout",
          "text": [
            "Please enter the name of the text file (including the extension): TGWDLM2.txt\n",
            "Word Count: 1920\n",
            "Sentence Count: 1\n",
            "Paragraph Count: 12\n",
            "Average Word Length: 4.42\n",
            "Most Common Words: [('que', 75), ('de', 52), ('paul', 52), ('no', 43), ('y', 42), ('a', 41), ('es', 37), ('en', 35), ('la', 34), ('el', 32)]\n"
          ]
        }
      ]
    },
    {
      "cell_type": "markdown",
      "source": [],
      "metadata": {
        "id": "DrBGhqw35R_D"
      }
    }
  ]
}