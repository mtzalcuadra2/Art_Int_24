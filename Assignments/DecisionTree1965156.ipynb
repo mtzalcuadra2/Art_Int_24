{
  "nbformat": 4,
  "nbformat_minor": 0,
  "metadata": {
    "colab": {
      "provenance": [],
      "authorship_tag": "ABX9TyPn9FwNWMRx5lKlwLtfK6hT",
      "include_colab_link": true
    },
    "kernelspec": {
      "name": "python3",
      "display_name": "Python 3"
    },
    "language_info": {
      "name": "python"
    }
  },
  "cells": [
    {
      "cell_type": "markdown",
      "metadata": {
        "id": "view-in-github",
        "colab_type": "text"
      },
      "source": [
        "<a href=\"https://colab.research.google.com/github/mtzalcuadra2/Art_Int_24/blob/main/DecisionTree1965156.ipynb\" target=\"_parent\"><img src=\"https://colab.research.google.com/assets/colab-badge.svg\" alt=\"Open In Colab\"/></a>"
      ]
    },
    {
      "cell_type": "code",
      "source": [
        "# Title: Decision Tree Model - Breast Cancer Dataset\n",
        "# Name: Santiago Ivan Martinez Martinez\n",
        "# ID: 1965156\n",
        "# Class Time: N4-N6\n"
      ],
      "metadata": {
        "id": "xGkYtQTw_BFm"
      },
      "execution_count": 12,
      "outputs": []
    },
    {
      "cell_type": "code",
      "execution_count": 1,
      "metadata": {
        "id": "XfvbDLu5-ol2"
      },
      "outputs": [],
      "source": [
        "# Import necessary libraries\n",
        "import pandas as pd\n",
        "from sklearn.datasets import load_breast_cancer\n",
        "from sklearn.model_selection import train_test_split\n",
        "from sklearn.tree import DecisionTreeClassifier, plot_tree\n",
        "from sklearn.metrics import accuracy_score, classification_report\n",
        "import matplotlib.pyplot as plt"
      ]
    },
    {
      "cell_type": "code",
      "source": [
        "# Load breast cancer dataset\n",
        "data = load_breast_cancer()\n",
        "df = pd.DataFrame(data.data, columns=data.feature_names)\n",
        "df['target'] = data.target\n",
        "df.head()  # Display the first few rows of the dataset\n"
      ],
      "metadata": {
        "id": "bsbfSLJR-59b"
      },
      "execution_count": null,
      "outputs": []
    },
    {
      "cell_type": "code",
      "source": [
        "# Split the data into features and labels\n",
        "X = df.drop('target', axis=1)\n",
        "y = df['target']\n",
        "\n",
        "# Split the data into training and testing sets (80% train, 20% test)\n",
        "X_train, X_test, y_train, y_test = train_test_split(X, y, test_size=0.2, random_state=42)\n"
      ],
      "metadata": {
        "id": "9OoxUX32-66n"
      },
      "execution_count": 3,
      "outputs": []
    },
    {
      "cell_type": "code",
      "source": [
        "# Initialize the Decision Tree Classifier\n",
        "clf = DecisionTreeClassifier()\n",
        "\n",
        "# Train the model with the training data\n",
        "clf.fit(X_train, y_train)\n"
      ],
      "metadata": {
        "id": "28LOPM66-80-"
      },
      "execution_count": null,
      "outputs": []
    },
    {
      "cell_type": "code",
      "source": [
        "# Make predictions on the test data\n",
        "y_pred = clf.predict(X_test)\n",
        "\n",
        "# Calculate accuracy\n",
        "accuracy = accuracy_score(y_test, y_pred)\n",
        "print(f'Accuracy: {accuracy * 100:.2f}%')\n",
        "\n",
        "# Display classification report\n",
        "print(\"Classification Report:\")\n",
        "print(classification_report(y_test, y_pred))\n"
      ],
      "metadata": {
        "id": "ZA0EmlSU-9xT"
      },
      "execution_count": null,
      "outputs": []
    },
    {
      "cell_type": "code",
      "source": [
        "from sklearn.tree import export_graphviz\n",
        "import pydotplus\n",
        "from IPython.display import Image\n",
        "from sklearn.datasets import load_breast_cancer\n",
        "\n",
        "# Export the tree to a dot file\n",
        "dot_data = export_graphviz(clf, out_file=None,\n",
        "                           feature_names=data.feature_names,\n",
        "                           class_names=data.target_names,\n",
        "                           filled=True, rounded=True,\n",
        "                           special_characters=True)\n",
        "\n",
        "# Use pydotplus to generate a graph from the dot file\n",
        "graph = pydotplus.graph_from_dot_data(dot_data)\n",
        "\n",
        "# Modify the graph to use circles for the nodes\n",
        "for node in graph.get_nodes():\n",
        "    if node.get_shape() == \"box\":  # Change default box shape to circle\n",
        "        node.set_shape(\"circle\")\n",
        "\n",
        "# Render the decision tree as an image\n",
        "Image(graph.create_png())\n"
      ],
      "metadata": {
        "id": "W8Y6BKK3A5UG"
      },
      "execution_count": null,
      "outputs": []
    }
  ]
}
